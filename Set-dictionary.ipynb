{
 "cells": [
  {
   "cell_type": "code",
   "execution_count": 1,
   "id": "3d748d01",
   "metadata": {},
   "outputs": [
    {
     "name": "stdout",
     "output_type": "stream",
     "text": [
      "{'Fast': 'In a Quick Manner', 'JK': 'A Singer', 'Marks': [1, 2, 3], 'anotherdict': {'jimin': 'singer'}}\n",
      "In a Quick Manner\n",
      "A Singer\n",
      "[1, 2, 3]\n",
      "singer\n"
     ]
    }
   ],
   "source": [
    "mydict = {\n",
    "    \"Fast\":\"In a Quick Manner\",\n",
    "    \"JK\" : \"A Singer\",\n",
    "    \"Marks\" : [1,2,3],\n",
    "    \"anotherdict\" : {'jimin':'singer'}\n",
    "}\n",
    "print(mydict)\n",
    "print(mydict['Fast'])\n",
    "print(mydict['JK'])\n",
    "print(mydict['Marks'])\n",
    "print(mydict['anotherdict']['jimin'])"
   ]
  },
  {
   "cell_type": "code",
   "execution_count": 2,
   "id": "eb9cc755",
   "metadata": {},
   "outputs": [
    {
     "name": "stdout",
     "output_type": "stream",
     "text": [
      "[45, 78]\n",
      "{'Fast': 'In a Quick Manner', 'JK': 'A Singer', 'Marks': [45, 78], 'anotherdict': {'jimin': 'singer'}}\n"
     ]
    }
   ],
   "source": [
    "mydict['Marks']=[45,78]\n",
    "print(mydict['Marks'])\n",
    "print(mydict)"
   ]
  },
  {
   "cell_type": "code",
   "execution_count": 3,
   "id": "9d3d366a",
   "metadata": {},
   "outputs": [
    {
     "name": "stdout",
     "output_type": "stream",
     "text": [
      "dict_keys(['fast', 'suga', 'marks', 'anotherdict', 1])\n",
      "<class 'dict_keys'>\n",
      "['fast', 'suga', 'marks', 'anotherdict', 1]\n",
      "dict_values(['In a Quick Manner', 'A Singer', [1, 2, 3], {'junkook': 'singer'}, 2])\n",
      "dict_items([('fast', 'In a Quick Manner'), ('suga', 'A Singer'), ('marks', [1, 2, 3]), ('anotherdict', {'junkook': 'singer'}), (1, 2)])\n"
     ]
    }
   ],
   "source": [
    "mydict = {\n",
    "    \"fast\":\"In a Quick Manner\",\n",
    "    \"suga\" : \"A Singer\",\n",
    "    \"marks\" : [1,2,3],\n",
    "    \"anotherdict\" : {'junkook':'singer'},\n",
    "    1:2\n",
    "}\n",
    "print(mydict.keys())\n",
    "print(type(mydict.keys()))\n",
    "print(list(mydict.keys()))\n",
    "print(mydict.values())#print the keys of dictionary\n",
    "print(mydict.items())#print all(key,value)for contents\n"
   ]
  },
  {
   "cell_type": "code",
   "execution_count": 4,
   "id": "d694a5f0",
   "metadata": {},
   "outputs": [
    {
     "name": "stdout",
     "output_type": "stream",
     "text": [
      "{'fast': 'In a Quick Manner', 'suga': 'A Singer', 'marks': [1, 2, 3], 'anotherdict': {'junkook': 'singer'}, 1: 2}\n",
      "{'fast': 'In a Quick Manner', 'suga': 'A Singer', 'marks': [1, 2, 3], 'anotherdict': {'junkook': 'singer'}, 1: 2, 'lisa': 'Friend', 'jenni': 'Friend', 'jk': 'raper'}\n"
     ]
    }
   ],
   "source": [
    "#updates the dictionary values by adding key-value pair from updatedict\n",
    "print(mydict)\n",
    "updatedict={\n",
    "    \"lisa\":\"Friend\",\n",
    "    \"jenni\":\"Friend\",\n",
    "    \"jk\":\"raper\"\n",
    "}\n",
    "mydict.update(updatedict)\n",
    "print(mydict)"
   ]
  },
  {
   "cell_type": "code",
   "execution_count": 5,
   "id": "ec76b63a",
   "metadata": {},
   "outputs": [
    {
     "name": "stdout",
     "output_type": "stream",
     "text": [
      "raper\n",
      "raper\n",
      "None\n"
     ]
    },
    {
     "ename": "KeyError",
     "evalue": "'jk1'",
     "output_type": "error",
     "traceback": [
      "\u001b[1;31m---------------------------------------------------------------------------\u001b[0m",
      "\u001b[1;31mKeyError\u001b[0m                                  Traceback (most recent call last)",
      "\u001b[1;32m~\\AppData\\Local\\Temp/ipykernel_1200/4024117069.py\u001b[0m in \u001b[0;36m<module>\u001b[1;34m\u001b[0m\n\u001b[0;32m      2\u001b[0m \u001b[0mprint\u001b[0m\u001b[1;33m(\u001b[0m\u001b[0mmydict\u001b[0m\u001b[1;33m[\u001b[0m\u001b[1;34m\"jk\"\u001b[0m\u001b[1;33m]\u001b[0m\u001b[1;33m)\u001b[0m\u001b[1;33m\u001b[0m\u001b[1;33m\u001b[0m\u001b[0m\n\u001b[0;32m      3\u001b[0m \u001b[0mprint\u001b[0m\u001b[1;33m(\u001b[0m\u001b[0mmydict\u001b[0m\u001b[1;33m.\u001b[0m\u001b[0mget\u001b[0m\u001b[1;33m(\u001b[0m\u001b[1;34m\"jk1\"\u001b[0m\u001b[1;33m)\u001b[0m\u001b[1;33m)\u001b[0m\u001b[1;33m\u001b[0m\u001b[1;33m\u001b[0m\u001b[0m\n\u001b[1;32m----> 4\u001b[1;33m \u001b[0mprint\u001b[0m\u001b[1;33m(\u001b[0m\u001b[0mmydict\u001b[0m\u001b[1;33m[\u001b[0m\u001b[1;34m\"jk1\"\u001b[0m\u001b[1;33m]\u001b[0m\u001b[1;33m)\u001b[0m\u001b[1;31m#thows key error\u001b[0m\u001b[1;33m\u001b[0m\u001b[1;33m\u001b[0m\u001b[0m\n\u001b[0m",
      "\u001b[1;31mKeyError\u001b[0m: 'jk1'"
     ]
    }
   ],
   "source": [
    "print(mydict.get(\"jk\"))\n",
    "print(mydict[\"jk\"])\n",
    "print(mydict.get(\"jk1\"))\n",
    "print(mydict[\"jk1\"])#thows key error"
   ]
  },
  {
   "cell_type": "markdown",
   "id": "b39706db",
   "metadata": {},
   "source": [
    "Sets"
   ]
  },
  {
   "cell_type": "code",
   "execution_count": null,
   "id": "85baa1cf",
   "metadata": {},
   "outputs": [],
   "source": [
    "a = {1,3,4,5,1,5}\n",
    "print(type(a))\n",
    "print(a)"
   ]
  },
  {
   "cell_type": "code",
   "execution_count": null,
   "id": "b72a7c43",
   "metadata": {},
   "outputs": [],
   "source": [
    "b=set()\n",
    "print(type(b))\n",
    "b.add(4)\n",
    "b.add(5)\n",
    "b.add(6)\n",
    "b.add(7)\n",
    "b.add(8)\n",
    "b.add((9,3,2))\n",
    "\n",
    "print(b)\n",
    "print(len(b))\n",
    "b.remove(5)\n",
    "print(b)\n",
    "print(b.pop())"
   ]
  },
  {
   "cell_type": "code",
   "execution_count": null,
   "id": "66f1b28d",
   "metadata": {},
   "outputs": [],
   "source": [
    "'''w.a.p to create a dictionary of hindhi words with values as their english\n",
    "translation provide user with an option to look it up!'''\n",
    "mydict={\n",
    "    \"panka\":\"fan\",\n",
    "    \"dabba\":\"box\",\n",
    "    \"vastu\":\"item\"\n",
    "}\n",
    "print(\"Option are\",mydict.keys())\n",
    "a=input(\"Enter the hindi words:-\\n\")\n",
    "print(\"The meaning of your word is:\",mydict[a])"
   ]
  },
  {
   "cell_type": "code",
   "execution_count": null,
   "id": "ec39a145",
   "metadata": {},
   "outputs": [],
   "source": [
    "print(\"Option are\",mydict.keys())\n",
    "a=input(\"Enter the hindi words:-\\n\")\n",
    "print(\"The meaning of your word is:\",mydict.get(a))"
   ]
  },
  {
   "cell_type": "code",
   "execution_count": 6,
   "id": "dc72394f",
   "metadata": {},
   "outputs": [
    {
     "name": "stdout",
     "output_type": "stream",
     "text": [
      "Enter Your 1:2\n",
      "Enter Your 2:3\n",
      "Enter Your 3:3\n",
      "Enter Your 4:5\n",
      "Enter Your 5:5\n",
      "Enter Your 6:8\n",
      "Enter Your 7:9\n",
      "Enter Your 8:7\n",
      "{2, 3, 5, 7, 8, 9}\n"
     ]
    }
   ],
   "source": [
    "#w.a.p to input eight numbers from the user and display all the unique numbers(once)\n",
    "n1=int(input(\"Enter Your 1:\"))\n",
    "n2=int(input(\"Enter Your 2:\"))\n",
    "n3=int(input(\"Enter Your 3:\"))\n",
    "n4=int(input(\"Enter Your 4:\"))\n",
    "n5=int(input(\"Enter Your 5:\"))\n",
    "n6=int(input(\"Enter Your 6:\"))\n",
    "n7=int(input(\"Enter Your 7:\"))\n",
    "n8=int(input(\"Enter Your 8:\"))\n",
    "s={n1,n2,n3,n4,n5,n6,n7,n8}\n",
    "print(s)\n"
   ]
  },
  {
   "cell_type": "code",
   "execution_count": 7,
   "id": "4008994b",
   "metadata": {},
   "outputs": [
    {
     "name": "stdout",
     "output_type": "stream",
     "text": [
      "{'18', 18, 18.1}\n"
     ]
    }
   ],
   "source": [
    "#can we have a set with 18(int) and 18(str) as a values in it\n",
    "s={18,\"18\",18.1}\n",
    "print(s)"
   ]
  },
  {
   "cell_type": "code",
   "execution_count": 8,
   "id": "38701603",
   "metadata": {},
   "outputs": [
    {
     "name": "stdout",
     "output_type": "stream",
     "text": [
      "2\n"
     ]
    }
   ],
   "source": [
    "#what will be the length of following set s:\n",
    "'''s=set()\n",
    "s.add(20)\n",
    "s.add(20.0)\n",
    "s.add(\"20\")=>length of s '''\n",
    "s={20,20.0,\"20\"}#because in set 20 & 20.0 value is same\n",
    "print(len(s))"
   ]
  },
  {
   "cell_type": "code",
   "execution_count": 9,
   "id": "cad46924",
   "metadata": {},
   "outputs": [
    {
     "data": {
      "text/plain": [
       "dict"
      ]
     },
     "execution_count": 9,
     "metadata": {},
     "output_type": "execute_result"
    }
   ],
   "source": [
    "#s={},what is the type of s?\n",
    "s={}\n",
    "type(s)"
   ]
  },
  {
   "cell_type": "code",
   "execution_count": 10,
   "id": "0c142ab1",
   "metadata": {},
   "outputs": [
    {
     "name": "stdout",
     "output_type": "stream",
     "text": [
      "Enter Your Favourite Language jimin:-python\n",
      "Enter Your Favourite Language jk:-c\n",
      "Enter Your Favourite Language jin:-c++\n",
      "Enter Your Favourite Language j-hope:-java\n",
      "{'jimin': 'python', 'jk': 'c', 'jin': 'c++', 'j-hope': 'java'}\n"
     ]
    }
   ],
   "source": [
    "#create an empty dictonary allow 4 friends to enter their favorite language as values and use keys as this names,assume that the names are unique\n",
    "favlang={}\n",
    "a = input(\"Enter Your Favourite Language jimin:-\")\n",
    "b = input(\"Enter Your Favourite Language jk:-\")\n",
    "c = input(\"Enter Your Favourite Language jin:-\")\n",
    "d = input(\"Enter Your Favourite Language j-hope:-\")\n",
    "favlang['jimin']=a\n",
    "favlang['jk']=b\n",
    "favlang['jin']=c\n",
    "favlang['j-hope']=d\n",
    "print(favlang)\n"
   ]
  },
  {
   "cell_type": "code",
   "execution_count": 12,
   "id": "9dce0b4d",
   "metadata": {},
   "outputs": [
    {
     "name": "stdout",
     "output_type": "stream",
     "text": [
      "Enter Your Favourite Language jimin:-c\n",
      "Enter Your Favourite Language jk:-c++\n",
      "Enter Your Favourite Language jin:-java\n",
      "Enter Your Favourite Language jimin:-python\n",
      "{'jimin': 'python', 'jk': 'c++', 'jin': 'java'}\n"
     ]
    }
   ],
   "source": [
    "#if names of 2 friends are same,what will happen  to the program in above program\n",
    "favlang={}\n",
    "a = input(\"Enter Your Favourite Language jimin:-\")\n",
    "b = input(\"Enter Your Favourite Language jk:-\")\n",
    "c = input(\"Enter Your Favourite Language jin:-\")\n",
    "d = input(\"Enter Your Favourite Language jimin:-\")\n",
    "favlang['jimin']=a\n",
    "favlang['jk']=b\n",
    "favlang['jin']=c\n",
    "favlang['jimin']=d\n",
    "print(favlang)\n"
   ]
  },
  {
   "cell_type": "code",
   "execution_count": 14,
   "id": "0d0ac4d8",
   "metadata": {},
   "outputs": [
    {
     "name": "stdout",
     "output_type": "stream",
     "text": [
      "Enter Your Favourite Language jimin:-python\n",
      "Enter Your Favourite Language jk:-c#\n",
      "Enter Your Favourite Language jin:-vb\n",
      "Enter Your Favourite Language rm:-python\n",
      "{'jimin': 'python', 'jk': 'c#', 'jin': 'vb', 'rm': 'python'}\n"
     ]
    }
   ],
   "source": [
    "#if  language of two friends are same,what will happen to the program in above program\n",
    "favlang={}\n",
    "a = input(\"Enter Your Favourite Language jimin:-\")\n",
    "b = input(\"Enter Your Favourite Language jk:-\")\n",
    "c = input(\"Enter Your Favourite Language jin:-\")\n",
    "d = input(\"Enter Your Favourite Language rm:-\")\n",
    "favlang['jimin']=a\n",
    "favlang['jk']=b\n",
    "favlang['jin']=c\n",
    "favlang['rm']=d\n",
    "print(favlang)\n"
   ]
  },
  {
   "cell_type": "code",
   "execution_count": 15,
   "id": "1beb8dc5",
   "metadata": {},
   "outputs": [
    {
     "ename": "TypeError",
     "evalue": "unhashable type: 'list'",
     "output_type": "error",
     "traceback": [
      "\u001b[1;31m---------------------------------------------------------------------------\u001b[0m",
      "\u001b[1;31mTypeError\u001b[0m                                 Traceback (most recent call last)",
      "\u001b[1;32m~\\AppData\\Local\\Temp/ipykernel_1200/539266610.py\u001b[0m in \u001b[0;36m<module>\u001b[1;34m\u001b[0m\n\u001b[0;32m      1\u001b[0m \u001b[1;31m#can you change the values inside a list which is contained in set s (s={8,7,12,\"lisoo\",[1,2]})\u001b[0m\u001b[1;33m\u001b[0m\u001b[1;33m\u001b[0m\u001b[0m\n\u001b[0;32m      2\u001b[0m \u001b[1;33m\u001b[0m\u001b[0m\n\u001b[1;32m----> 3\u001b[1;33m \u001b[0ms\u001b[0m\u001b[1;33m=\u001b[0m\u001b[1;33m{\u001b[0m\u001b[1;36m8\u001b[0m\u001b[1;33m,\u001b[0m\u001b[1;36m7\u001b[0m\u001b[1;33m,\u001b[0m\u001b[1;36m12\u001b[0m\u001b[1;33m,\u001b[0m\u001b[1;34m\"lisoo\"\u001b[0m\u001b[1;33m,\u001b[0m\u001b[1;33m[\u001b[0m\u001b[1;36m1\u001b[0m\u001b[1;33m,\u001b[0m\u001b[1;36m2\u001b[0m\u001b[1;33m]\u001b[0m\u001b[1;33m}\u001b[0m\u001b[1;33m\u001b[0m\u001b[1;33m\u001b[0m\u001b[0m\n\u001b[0m",
      "\u001b[1;31mTypeError\u001b[0m: unhashable type: 'list'"
     ]
    }
   ],
   "source": [
    "#can you change the values inside a list which is contained in set s (s={8,7,12,\"lisoo\",[1,2]})\n",
    "\n",
    "s={8,7,12,\"lisoo\",[1,2]}#list is not allowed in set"
   ]
  },
  {
   "cell_type": "code",
   "execution_count": null,
   "id": "840a1c6d",
   "metadata": {},
   "outputs": [],
   "source": []
  }
 ],
 "metadata": {
  "kernelspec": {
   "display_name": "Python 3 (ipykernel)",
   "language": "python",
   "name": "python3"
  },
  "language_info": {
   "codemirror_mode": {
    "name": "ipython",
    "version": 3
   },
   "file_extension": ".py",
   "mimetype": "text/x-python",
   "name": "python",
   "nbconvert_exporter": "python",
   "pygments_lexer": "ipython3",
   "version": "3.9.7"
  }
 },
 "nbformat": 4,
 "nbformat_minor": 5
}
